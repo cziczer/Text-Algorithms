{
 "cells": [
  {
   "cell_type": "code",
   "execution_count": 1,
   "metadata": {},
   "outputs": [],
   "source": [
    "from PIL import Image\n",
    "from numpy import empty,array\n",
    "from time import time"
   ]
  },
  {
   "cell_type": "code",
   "execution_count": 2,
   "metadata": {},
   "outputs": [],
   "source": [
    "def prepare_text(text):\n",
    "    lines = text.splitlines()   \n",
    "    longest_string = len(max(lines, key = len))\n",
    "    result = []\n",
    "    for line in lines:\n",
    "        result.append(list(line.ljust(longest_string,'\\n')))    \n",
    "    return result"
   ]
  },
  {
   "cell_type": "markdown",
   "metadata": {},
   "source": [
    "## aho-corasick algorithm"
   ]
  },
  {
   "cell_type": "code",
   "execution_count": 3,
   "metadata": {},
   "outputs": [],
   "source": [
    "class Node:\n",
    "    def __init__(self, index):\n",
    "        self.index = index\n",
    "        self.output = []\n",
    "        self.go_to = {}       \n",
    "        self.failure = None    \n",
    "\n",
    "        \n",
    "def keyword_tree(patterns):\n",
    "    root = Node(0)\n",
    "    i = 1\n",
    "    for pattern in patterns:\n",
    "        node = root\n",
    "        for letter in pattern:\n",
    "            node = node.go_to.setdefault(letter, Node(i))\n",
    "            i += 1\n",
    "        node.output.append(pattern)\n",
    "    return root\n",
    "\n",
    "\n",
    "def build_matching_machine(patterns):\n",
    "    root = keyword_tree(patterns)\n",
    "    queue = []\n",
    "    for node in root.go_to.values():\n",
    "        queue.append(node)\n",
    "        node.failure = root\n",
    "    while len(queue) > 0:\n",
    "        pop = queue.pop(0)\n",
    "        for key, node in pop.go_to.items():\n",
    "            queue.append(node)\n",
    "            help_node = pop.failure\n",
    "            while help_node != None and not key in help_node.go_to:\n",
    "                help_node = help_node.failure\n",
    "            node.failure = help_node.go_to[key] if help_node else root\n",
    "            node.output += node.failure.output\n",
    "    return root"
   ]
  },
  {
   "cell_type": "code",
   "execution_count": 4,
   "metadata": {},
   "outputs": [],
   "source": [
    "def search_helper(text,pattern):\n",
    "    res = set()\n",
    "    K = []  \n",
    "    t = -1\n",
    "    K.append(t)\n",
    "    for k in range(1, len(pattern) + 1):\n",
    "        while(t >= 0 and pattern[t] != pattern[k - 1]):\n",
    "            t = K[t]\n",
    "        t = t + 1  \n",
    "        K.append(t)\n",
    "    m = 0  \n",
    "    for i in range(0, len(text)):\n",
    "        while (m >= 0 and pattern[m] != text[i]):\n",
    "            m = K[m]\n",
    "        m = m + 1  \n",
    "        if m == len(pattern):\n",
    "            res.add(i-m+1)\n",
    "            m = K[m]\n",
    "    return res"
   ]
  },
  {
   "cell_type": "code",
   "execution_count": 9,
   "metadata": {},
   "outputs": [],
   "source": [
    "def matcher_2d_pattern(text,patterns,show_timer=True):\n",
    "    start_time = time()\n",
    "    aho_corasick = build_matching_machine(patterns)    \n",
    "    \n",
    "    patterns_pattern = []\n",
    "    pattern_list = []\n",
    "    num = 0\n",
    "    for pattern in patterns:\n",
    "        num += len(pattern)                \n",
    "        patterns_pattern.append(num)\n",
    "        pattern_list.append((pattern,num))        \n",
    "    states = [[0 for _ in range(len(text[0]))] for _ in range(len(text))]\n",
    "\n",
    "    for j in range(len(text[0])):\n",
    "        node = aho_corasick\n",
    "        for i in range(len(text)):\n",
    "            while node != None and not text[i][j] in node.go_to:\n",
    "                node = node.failure\n",
    "            if node == None:\n",
    "                node = aho_corasick\n",
    "            else:\n",
    "                node = node.go_to[text[i][j]]\n",
    "                states[i][j] = node.index\n",
    "    \n",
    "    preparation_finish = time()\n",
    "    pattern_matching = []\n",
    "    i = -1 * len(patterns[0]) + 1\n",
    "    count = 0\n",
    "    for row in states:\n",
    "        S = search_helper(row,patterns_pattern)       \n",
    "        count += len(S)\n",
    "        for j in S:\n",
    "            pattern_matching.append(str(((i, j), (i, j+len(patterns)-1))))\n",
    "            pattern_matching.append(str(((i+len(patterns[0])-1, j), (i+len(patterns[0])-1, j+len(patterns)-1))))               \n",
    "        i += 1\n",
    "    algo_finish = time()\n",
    "    if show_timer:\n",
    "        print(\"Automata preparation: \", str((preparation_finish-start_time)))\n",
    "        print(\"Algorithm time: \", str((algo_finish-preparation_finish)))\n",
    "    return count, pattern_matching"
   ]
  },
  {
   "cell_type": "markdown",
   "metadata": {},
   "source": [
    "## Pattern search in text"
   ]
  },
  {
   "cell_type": "code",
   "execution_count": 10,
   "metadata": {},
   "outputs": [],
   "source": [
    "haystack_text = prepare_text(open(\"haystack.txt\").read())"
   ]
  },
  {
   "cell_type": "code",
   "execution_count": 11,
   "metadata": {},
   "outputs": [],
   "source": [
    "patterns = []\n",
    "for line in haystack_text:\n",
    "    for letter in line:\n",
    "        if letter not in patterns and letter != \"\\n\":\n",
    "            patterns += letter"
   ]
  },
  {
   "cell_type": "code",
   "execution_count": 12,
   "metadata": {},
   "outputs": [
    {
     "name": "stdout",
     "output_type": "stream",
     "text": [
      "  -> 158\n",
      "\" -> 0\n",
      "( -> 0\n",
      ") -> 0\n",
      ", -> 0\n",
      "- -> 0\n",
      ". -> 0\n",
      "0 -> 0\n",
      "1 -> 0\n",
      "3 -> 0\n",
      "5 -> 0\n",
      "6 -> 0\n",
      "7 -> 0\n",
      ": -> 0\n",
      "; -> 0\n",
      "A -> 0\n",
      "B -> 0\n",
      "C -> 0\n",
      "D -> 0\n",
      "E -> 0\n",
      "F -> 0\n",
      "G -> 0\n",
      "I -> 0\n",
      "L -> 0\n",
      "M -> 0\n",
      "N -> 0\n",
      "O -> 0\n",
      "P -> 0\n",
      "Q -> 0\n",
      "R -> 0\n",
      "S -> 0\n",
      "T -> 0\n",
      "U -> 0\n",
      "V -> 0\n",
      "W -> 0\n",
      "X -> 0\n",
      "a -> 28\n",
      "b -> 0\n",
      "c -> 6\n",
      "d -> 1\n",
      "e -> 48\n",
      "f -> 2\n",
      "g -> 0\n",
      "h -> 4\n",
      "i -> 13\n",
      "j -> 0\n",
      "k -> 0\n",
      "l -> 5\n",
      "m -> 5\n",
      "n -> 15\n",
      "o -> 21\n",
      "p -> 2\n",
      "q -> 0\n",
      "r -> 21\n",
      "s -> 19\n",
      "t -> 41\n",
      "u -> 0\n",
      "v -> 0\n",
      "w -> 2\n",
      "x -> 1\n",
      "y -> 1\n",
      "z -> 0\n"
     ]
    }
   ],
   "source": [
    "for letter in sorted(patterns):\n",
    "    print(letter, \"->\", matcher_2d_pattern(haystack_text,[letter+letter],False)[0])"
   ]
  },
  {
   "cell_type": "code",
   "execution_count": 13,
   "metadata": {},
   "outputs": [
    {
     "name": "stdout",
     "output_type": "stream",
     "text": [
      "'th' -> 0\n"
     ]
    }
   ],
   "source": [
    "print(\"'th' ->\", matcher_2d_pattern(haystack_text,['tt','hh'], False)[0])"
   ]
  },
  {
   "cell_type": "code",
   "execution_count": 14,
   "metadata": {},
   "outputs": [
    {
     "name": "stdout",
     "output_type": "stream",
     "text": [
      "'t h' -> 1\n"
     ]
    },
    {
     "data": {
      "text/plain": [
       "['((37, 0), (37, 2))', '((38, 0), (38, 2))']"
      ]
     },
     "execution_count": 14,
     "metadata": {},
     "output_type": "execute_result"
    }
   ],
   "source": [
    "print(\"'t h' ->\",matcher_2d_pattern(haystack_text,['tt','  ','hh'], False)[0])\n",
    "matcher_2d_pattern(haystack_text,['tt','  ','hh'], False)[1]"
   ]
  },
  {
   "cell_type": "markdown",
   "metadata": {},
   "source": [
    "## Image"
   ]
  },
  {
   "cell_type": "code",
   "execution_count": 15,
   "metadata": {},
   "outputs": [],
   "source": [
    "def convert_image_to_1_0_matrix(image):\n",
    "    return array(image.convert('P', palette=Image.ADAPTIVE, colors=256))"
   ]
  },
  {
   "cell_type": "code",
   "execution_count": 16,
   "metadata": {},
   "outputs": [],
   "source": [
    "haystack_image = Image.open('haystack.png')\n",
    "haystack_image_data = convert_image_to_1_0_matrix(haystack_image)"
   ]
  },
  {
   "cell_type": "code",
   "execution_count": 17,
   "metadata": {},
   "outputs": [],
   "source": [
    "def get_image_chunk(left,top,right,bottom):\n",
    "    data = []\n",
    "    for row in haystack_image_data[top:bottom]:\n",
    "        data.append(row[left:right])\n",
    "    return data"
   ]
  },
  {
   "cell_type": "code",
   "execution_count": 18,
   "metadata": {},
   "outputs": [],
   "source": [
    "def get_columns_from_pattern(pattern):\n",
    "    columns = []\n",
    "    for j in range(len(pattern[0])):\n",
    "        column = []\n",
    "        for i in range(len(pattern)):\n",
    "            column.append(pattern[i][j])\n",
    "        columns.append(column)\n",
    "    return columns"
   ]
  },
  {
   "cell_type": "code",
   "execution_count": 19,
   "metadata": {},
   "outputs": [
    {
     "data": {
      "image/png": "[encoded data removed]",
      "text/plain": [
       "<PIL.Image.Image image mode=RGBA size=10x11 at 0x16A521B2448>"
      ]
     },
     "execution_count": 19,
     "metadata": {},
     "output_type": "execute_result"
    }
   ],
   "source": [
    "image_e = haystack_image.crop((590,565,600,576))\n",
    "image_e_pattern = get_image_chunk(590,565,600,576)\n",
    "image_e"
   ]
  },
  {
   "cell_type": "code",
   "execution_count": 20,
   "metadata": {},
   "outputs": [
    {
     "data": {
      "text/plain": [
       "576"
      ]
     },
     "execution_count": 20,
     "metadata": {},
     "output_type": "execute_result"
    }
   ],
   "source": [
    "matcher_2d_pattern(haystack_image_data,get_columns_from_pattern(image_e_pattern),False)[0]"
   ]
  },
  {
   "cell_type": "code",
   "execution_count": 21,
   "metadata": {},
   "outputs": [
    {
     "data": {
      "image/png": "[encoded data removed]",
      "text/plain": [
       "<PIL.Image.Image image mode=RGBA size=8x11 at 0x16A5211B908>"
      ]
     },
     "execution_count": 21,
     "metadata": {},
     "output_type": "execute_result"
    }
   ],
   "source": [
    "image_c = haystack_image.crop((486,564,494,575))\n",
    "image_c_pattern = get_image_chunk(486,564,494,575)\n",
    "image_c"
   ]
  },
  {
   "cell_type": "code",
   "execution_count": 22,
   "metadata": {},
   "outputs": [
    {
     "data": {
      "text/plain": [
       "213"
      ]
     },
     "execution_count": 22,
     "metadata": {},
     "output_type": "execute_result"
    }
   ],
   "source": [
    "matcher_2d_pattern(haystack_image_data,get_columns_from_pattern(image_c_pattern),False)[0]"
   ]
  },
  {
   "cell_type": "code",
   "execution_count": 23,
   "metadata": {},
   "outputs": [
    {
     "data": {
      "image/png": "[encoded data removed]",
      "text/plain": [
       "<PIL.Image.Image image mode=RGBA size=9x12 at 0x16A521BA948>"
      ]
     },
     "execution_count": 23,
     "metadata": {},
     "output_type": "execute_result"
    }
   ],
   "source": [
    "image_o = haystack_image.crop((214,564,223,576))\n",
    "image_o_pattern = get_image_chunk(214,564,223,576)\n",
    "image_o"
   ]
  },
  {
   "cell_type": "code",
   "execution_count": 24,
   "metadata": {},
   "outputs": [
    {
     "data": {
      "text/plain": [
       "0"
      ]
     },
     "execution_count": 24,
     "metadata": {},
     "output_type": "execute_result"
    }
   ],
   "source": [
    "matcher_2d_pattern(haystack_image_data,get_columns_from_pattern(image_o_pattern),False)[0]"
   ]
  },
  {
   "cell_type": "code",
   "execution_count": 25,
   "metadata": {},
   "outputs": [
    {
     "data": {
      "image/png": "[encoded data removed]",
      "text/plain": [
       "<PIL.Image.Image image mode=RGBA size=9x11 at 0x16A521373C8>"
      ]
     },
     "execution_count": 25,
     "metadata": {},
     "output_type": "execute_result"
    }
   ],
   "source": [
    "image_a = haystack_image.crop((120,234,129,245))\n",
    "image_a_pattern = get_image_chunk(120,234,129,245)\n",
    "image_a"
   ]
  },
  {
   "cell_type": "code",
   "execution_count": 26,
   "metadata": {},
   "outputs": [
    {
     "data": {
      "text/plain": [
       "397"
      ]
     },
     "execution_count": 26,
     "metadata": {},
     "output_type": "execute_result"
    }
   ],
   "source": [
    "matcher_2d_pattern(haystack_image_data,get_columns_from_pattern(image_a_pattern),False)[0]"
   ]
  },
  {
   "cell_type": "code",
   "execution_count": 27,
   "metadata": {},
   "outputs": [
    {
     "data": {
      "image/png": "[encoded data removed]",
      "text/plain": [
       "<PIL.Image.Image image mode=RGBA size=108x21 at 0x16A52816648>"
      ]
     },
     "execution_count": 27,
     "metadata": {},
     "output_type": "execute_result"
    }
   ],
   "source": [
    "image_pattern = haystack_image.crop((422,494,530,515))\n",
    "image_pattern_pattern = get_image_chunk(422,494,530,515)\n",
    "image_pattern"
   ]
  },
  {
   "cell_type": "code",
   "execution_count": 28,
   "metadata": {},
   "outputs": [
    {
     "data": {
      "text/plain": [
       "0"
      ]
     },
     "execution_count": 28,
     "metadata": {},
     "output_type": "execute_result"
    }
   ],
   "source": [
    "matcher_2d_pattern(haystack_image_data,get_columns_from_pattern(image_pattern_pattern), False)[0]"
   ]
  },
  {
   "cell_type": "markdown",
   "metadata": {},
   "source": [
    "### Compare time for building automata and pattern matching"
   ]
  },
  {
   "cell_type": "code",
   "execution_count": 29,
   "metadata": {},
   "outputs": [
    {
     "name": "stdout",
     "output_type": "stream",
     "text": [
      "Automata preparation:  0.0029981136322021484\n",
      "Algorithm time:  0.0019998550415039062\n"
     ]
    },
    {
     "data": {
      "text/plain": [
       "0"
      ]
     },
     "execution_count": 29,
     "metadata": {},
     "output_type": "execute_result"
    }
   ],
   "source": [
    "test_pattern_1 = ['abc','def','123']\n",
    "matcher_2d_pattern(haystack_text,test_pattern_1)[0]"
   ]
  },
  {
   "cell_type": "code",
   "execution_count": 30,
   "metadata": {},
   "outputs": [
    {
     "name": "stdout",
     "output_type": "stream",
     "text": [
      "Automata preparation:  0.0019996166229248047\n",
      "Algorithm time:  0.0019996166229248047\n"
     ]
    },
    {
     "data": {
      "text/plain": [
       "(1, ['((54, 52), (54, 52))', '((56, 52), (56, 52))'])"
      ]
     },
     "execution_count": 30,
     "metadata": {},
     "output_type": "execute_result"
    }
   ],
   "source": [
    "test_pattern_2 = ['and']\n",
    "matcher_2d_pattern(haystack_text,test_pattern_2)"
   ]
  },
  {
   "cell_type": "code",
   "execution_count": 31,
   "metadata": {},
   "outputs": [
    {
     "name": "stdout",
     "output_type": "stream",
     "text": [
      "Automata preparation:  0.0019991397857666016\n",
      "Algorithm time:  0.0019991397857666016\n"
     ]
    },
    {
     "data": {
      "text/plain": [
       "(0, [])"
      ]
     },
     "execution_count": 31,
     "metadata": {},
     "output_type": "execute_result"
    }
   ],
   "source": [
    "test_pattern_3 = ['aaaaaaaaaaaaaaaaaaaaaa']\n",
    "matcher_2d_pattern(haystack_text,test_pattern_3)"
   ]
  },
  {
   "cell_type": "code",
   "execution_count": 32,
   "metadata": {},
   "outputs": [
    {
     "name": "stdout",
     "output_type": "stream",
     "text": [
      "Automata preparation:  0.0029973983764648438\n",
      "Algorithm time:  0.001999378204345703\n"
     ]
    },
    {
     "data": {
      "text/plain": [
       "(0, [])"
      ]
     },
     "execution_count": 32,
     "metadata": {},
     "output_type": "execute_result"
    }
   ],
   "source": [
    "test_pattern_3 = ['of', 'and', 'the']\n",
    "matcher_2d_pattern(haystack_text,test_pattern_3)"
   ]
  },
  {
   "cell_type": "code",
   "execution_count": 33,
   "metadata": {},
   "outputs": [
    {
     "name": "stdout",
     "output_type": "stream",
     "text": [
      "Automata preparation:  0.0029985904693603516\n",
      "Algorithm time:  0.0019986629486083984\n"
     ]
    },
    {
     "data": {
      "text/plain": [
       "(0, [])"
      ]
     },
     "execution_count": 33,
     "metadata": {},
     "output_type": "execute_result"
    }
   ],
   "source": [
    "test_pattern_4 = ['zzzzzzzzzzzzzzzzaaaaaaaaaaaaafffffffff']\n",
    "matcher_2d_pattern(haystack_text,test_pattern_3)"
   ]
  },
  {
   "cell_type": "code",
   "execution_count": 36,
   "metadata": {},
   "outputs": [
    {
     "name": "stdout",
     "output_type": "stream",
     "text": [
      "Automata preparation:  2.4136221408843994\n",
      "Algorithm time:  0.4827232360839844\n"
     ]
    },
    {
     "data": {
      "text/plain": [
       "0"
      ]
     },
     "execution_count": 36,
     "metadata": {},
     "output_type": "execute_result"
    }
   ],
   "source": [
    "matcher_2d_pattern(haystack_image_data,get_columns_from_pattern(image_pattern_pattern))[0]"
   ]
  },
  {
   "cell_type": "code",
   "execution_count": 37,
   "metadata": {},
   "outputs": [
    {
     "name": "stdout",
     "output_type": "stream",
     "text": [
      "Automata preparation:  2.2057406902313232\n",
      "Algorithm time:  0.3927750587463379\n"
     ]
    },
    {
     "data": {
      "text/plain": [
       "397"
      ]
     },
     "execution_count": 37,
     "metadata": {},
     "output_type": "execute_result"
    }
   ],
   "source": [
    "matcher_2d_pattern(haystack_image_data,get_columns_from_pattern(image_a_pattern))[0]"
   ]
  },
  {
   "cell_type": "code",
   "execution_count": null,
   "metadata": {},
   "outputs": [],
   "source": []
  }
 ],
 "metadata": {
  "kernelspec": {
   "display_name": "Python 3",
   "language": "python",
   "name": "python3"
  },
  "language_info": {
   "codemirror_mode": {
    "name": "ipython",
    "version": 3
   },
   "file_extension": ".py",
   "mimetype": "text/x-python",
   "name": "python",
   "nbconvert_exporter": "python",
   "pygments_lexer": "ipython3",
   "version": "3.7.6"
  }
 },
 "nbformat": 4,
 "nbformat_minor": 4
}
